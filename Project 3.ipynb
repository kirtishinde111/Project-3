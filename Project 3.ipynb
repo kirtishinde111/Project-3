{
 "cells": [
  {
   "cell_type": "code",
   "execution_count": null,
   "id": "5813125f",
   "metadata": {},
   "outputs": [
    {
     "name": "stdout",
     "output_type": "stream",
     "text": [
      "Welcome to Hangman!\n",
      "\n",
      "Word: _ _ _ _\n"
     ]
    }
   ],
   "source": [
    "#Project Name: Hangman Challenge\n",
    "import random\n",
    "\n",
    "word_list = ['python', 'hangman', 'game']\n",
    "word = random.choice(word_list)\n",
    "guessed_word = ['_'] * len(word)\n",
    "attempts = 6\n",
    "\n",
    "print(\"Welcome to Hangman!\")\n",
    "\n",
    "while attempts > 0 and '_' in guessed_word:\n",
    "    print(\"\\nWord:\", ' '.join(guessed_word))\n",
    "    guess = input(\"Guess a letter: \").lower()\n",
    "\n",
    "    if guess in word:\n",
    "        for i in range(len(word)):\n",
    "            if word[i] == guess:\n",
    "                guessed_word[i] = guess\n",
    "    else:\n",
    "        attempts -= 1\n",
    "        print(f\"Incorrect! Attempts left: {attempts}\")\n",
    "\n",
    "if '_' not in guessed_word:\n",
    "    print(\"\\n You win! The word was:\", word)\n",
    "else:\n",
    "    print(\"\\n Out of attempts! The word was:\", word)\n"
   ]
  },
  {
   "cell_type": "code",
   "execution_count": null,
   "id": "9d7f80bf",
   "metadata": {},
   "outputs": [],
   "source": []
  }
 ],
 "metadata": {
  "kernelspec": {
   "display_name": "Python 3 (ipykernel)",
   "language": "python",
   "name": "python3"
  },
  "language_info": {
   "codemirror_mode": {
    "name": "ipython",
    "version": 3
   },
   "file_extension": ".py",
   "mimetype": "text/x-python",
   "name": "python",
   "nbconvert_exporter": "python",
   "pygments_lexer": "ipython3",
   "version": "3.10.9"
  }
 },
 "nbformat": 4,
 "nbformat_minor": 5
}
